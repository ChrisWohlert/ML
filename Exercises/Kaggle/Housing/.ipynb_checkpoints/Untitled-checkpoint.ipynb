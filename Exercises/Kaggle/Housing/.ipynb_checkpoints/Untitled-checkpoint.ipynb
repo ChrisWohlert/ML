{
 "cells": [
  {
   "cell_type": "code",
   "execution_count": 1,
   "id": "e6b96923",
   "metadata": {},
   "outputs": [
    {
     "data": {
      "text/plain": [
       "6"
      ]
     },
     "execution_count": 1,
     "metadata": {},
     "output_type": "execute_result"
    }
   ],
   "source": [
    "3"
   ]
  },
  {
   "cell_type": "code",
   "execution_count": 8,
   "id": "5de6041b",
   "metadata": {},
   "outputs": [
    {
     "name": "stdout",
     "output_type": "stream",
     "text": [
      "PATH: D:\\school\\ML\\Exercises\\Kaggle\\Housing\\House_Rent_Dataset.csv\n",
      "0.25333031552461693\n",
      "0.5083463584930956\n"
     ]
    },
    {
     "data": {
      "text/plain": [
       "(3179, 12)"
      ]
     },
     "execution_count": 8,
     "metadata": {},
     "output_type": "execute_result"
    }
   ],
   "source": [
    "import os\n",
    "import pandas\n",
    "from sklearn.model_selection import train_test_split\n",
    "from sklearn.linear_model import LinearRegression\n",
    "from datetime import datetime\n",
    "from sklearn.tree import DecisionTreeClassifier\n",
    "from sklearn.ensemble import RandomForestClassifier\n",
    "from sklearn.preprocessing import StandardScaler\n",
    "\n",
    "\n",
    "def find_floor(x):\n",
    "    if \"Ground\" in x:\n",
    "        return 0\n",
    "    if \"Upper\" in x:\n",
    "        return -1\n",
    "    if \"Lower\" in x:\n",
    "        return -2\n",
    "    return int(x.split()[0])\n",
    "\n",
    "def find_floors(x): \n",
    "    x = x.split()\n",
    "    if x[-1] == \"Ground\":\n",
    "        return 0\n",
    "    return int(x[-1])\n",
    "\n",
    "path = os.path.join(os.getcwd(), \"House_Rent_Dataset.csv\")\n",
    "print(\"PATH: \" + path)\n",
    "dataset = pandas.read_csv(path)\n",
    "\n",
    "X = dataset.drop([\"Rent\"], axis=1)\n",
    "y = dataset.take([2], axis=1)\n",
    "\n",
    "X[\"Posted On\"] = X[\"Posted On\"].apply(lambda x: (datetime.now() - datetime.strptime(x, \"%Y-%m-%d\")).days)\n",
    "floor = X[\"Floor\"].apply(find_floor)\n",
    "floors = X[\"Floor\"].apply(find_floors)\n",
    "X[\"Floor\"] = floor\n",
    "X[\"Floors\"] = floors\n",
    "X[\"Area Type\"] = X[\"Area Type\"].factorize()[0]\n",
    "X[\"Area Locality\"] = X[\"Area Locality\"].factorize()[0]\n",
    "X[\"City\"] = X[\"City\"].factorize()[0]\n",
    "X[\"Furnishing Status\"] = X[\"Furnishing Status\"].factorize()[0]\n",
    "X[\"Tenant Preferred\"] = X[\"Tenant Preferred\"].factorize()[0]\n",
    "X[\"Point of Contact\"] = X[\"Point of Contact\"].factorize()[0]\n",
    "\n",
    "scaler = StandardScaler()\n",
    "X = scaler.fit_transform(X)\n",
    "\n",
    "\n",
    "X_train, X_test, y_train, y_test = train_test_split(X, y, test_size=0.33, random_state=42)\n",
    "\n",
    "model = LinearRegression() # 0.25 -> 0.50\n",
    "#model = DecisionTreeClassifier(max_depth=100) # 0.99 -> 0.06\n",
    "#model = RandomForestClassifier(max_depth=10) # 0.78 -> 0.09\n",
    "\n",
    "model.fit(X_train, y_train.values.ravel())\n",
    "\n",
    "train_score = model.score(X_train, y_train)\n",
    "test_score = model.score(X_test, y_test)\n",
    "\n",
    "print(train_score)\n",
    "print(test_score)\n",
    "\n",
    "X_train.shape\n"
   ]
  },
  {
   "cell_type": "code",
   "execution_count": 3,
   "id": "17b4d82c",
   "metadata": {},
   "outputs": [],
   "source": [
    "import tensorflow as tf"
   ]
  },
  {
   "cell_type": "code",
   "execution_count": 6,
   "id": "f888ae53",
   "metadata": {},
   "outputs": [
    {
     "data": {
      "text/plain": [
       "'2.10.0'"
      ]
     },
     "execution_count": 6,
     "metadata": {},
     "output_type": "execute_result"
    }
   ],
   "source": [
    "tf.__version__"
   ]
  },
  {
   "cell_type": "code",
   "execution_count": 7,
   "id": "48db58ed",
   "metadata": {},
   "outputs": [
    {
     "ename": "NameError",
     "evalue": "name 'X_train' is not defined",
     "output_type": "error",
     "traceback": [
      "\u001b[1;31m---------------------------------------------------------------------------\u001b[0m",
      "\u001b[1;31mNameError\u001b[0m                                 Traceback (most recent call last)",
      "Input \u001b[1;32mIn [7]\u001b[0m, in \u001b[0;36m<cell line: 1>\u001b[1;34m()\u001b[0m\n\u001b[1;32m----> 1\u001b[0m \u001b[43mX_train\u001b[49m\u001b[38;5;241m.\u001b[39mshape\n",
      "\u001b[1;31mNameError\u001b[0m: name 'X_train' is not defined"
     ]
    }
   ],
   "source": []
  },
  {
   "cell_type": "code",
   "execution_count": 11,
   "id": "3f1bdd22",
   "metadata": {},
   "outputs": [],
   "source": [
    "model = tf.keras.models.Sequential([\n",
    "    tf.keras.layers.Flatten(input_shape=(12,)),\n",
    "    tf.keras.layers.Dense(24, activation=\"relu\"),\n",
    "    tf.keras.layers.Dense(24, activation=\"relu\"),\n",
    "    tf.keras.layers.Dense(1),\n",
    "])"
   ]
  },
  {
   "cell_type": "code",
   "execution_count": 12,
   "id": "81f3d537",
   "metadata": {},
   "outputs": [],
   "source": [
    "model.compile(optimizer=\"adam\", metrics=[\"accuracy\"])"
   ]
  },
  {
   "cell_type": "code",
   "execution_count": null,
   "id": "7dd2a487",
   "metadata": {},
   "outputs": [],
   "source": [
    "model."
   ]
  }
 ],
 "metadata": {
  "kernelspec": {
   "display_name": "Python 3 (ipykernel)",
   "language": "python",
   "name": "python3"
  },
  "language_info": {
   "codemirror_mode": {
    "name": "ipython",
    "version": 3
   },
   "file_extension": ".py",
   "mimetype": "text/x-python",
   "name": "python",
   "nbconvert_exporter": "python",
   "pygments_lexer": "ipython3",
   "version": "3.8.2"
  }
 },
 "nbformat": 4,
 "nbformat_minor": 5
}
