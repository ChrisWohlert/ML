{
 "cells": [
  {
   "cell_type": "code",
   "execution_count": 1,
   "metadata": {},
   "outputs": [
    {
     "name": "stdout",
     "output_type": "stream",
     "text": [
      "Requirement already satisfied: gym in c:\\users\\chwo\\appdata\\local\\programs\\python\\python38\\lib\\site-packages (0.26.1)\n",
      "Requirement already satisfied: numpy>=1.18.0 in c:\\users\\chwo\\appdata\\local\\programs\\python\\python38\\lib\\site-packages (from gym) (1.23.2)\n",
      "Requirement already satisfied: importlib-metadata>=4.8.0 in c:\\users\\chwo\\appdata\\local\\programs\\python\\python38\\lib\\site-packages (from gym) (4.12.0)\n",
      "Requirement already satisfied: cloudpickle>=1.2.0 in c:\\users\\chwo\\appdata\\local\\programs\\python\\python38\\lib\\site-packages (from gym) (2.2.0)\n",
      "Requirement already satisfied: gym-notices>=0.0.4 in c:\\users\\chwo\\appdata\\local\\programs\\python\\python38\\lib\\site-packages (from gym) (0.0.8)\n",
      "Requirement already satisfied: zipp>=0.5 in c:\\users\\chwo\\appdata\\local\\programs\\python\\python38\\lib\\site-packages (from importlib-metadata>=4.8.0->gym) (3.8.1)\n",
      "Requirement already satisfied: pygame in c:\\users\\chwo\\appdata\\local\\programs\\python\\python38\\lib\\site-packages (2.1.2)\n"
     ]
    }
   ],
   "source": [
    "!pip install gym\n",
    "!pip install pygame"
   ]
  },
  {
   "cell_type": "code",
   "execution_count": 8,
   "metadata": {},
   "outputs": [
    {
     "name": "stdout",
     "output_type": "stream",
     "text": [
      "[ 0.0273956  -0.00611216  0.03585979  0.0197368 ]\n"
     ]
    }
   ],
   "source": [
    "import gym\n",
    "from gym import envs\n",
    "from IPython import display\n",
    "import matplotlib\n",
    "import matplotlib.pyplot as plt\n",
    "%matplotlib inline\n",
    "\n",
    "env = gym.make(\"CartPole-v1\", render_mode = 'rgb_array')\n",
    "observation, info = env.reset(seed=42)\n",
    "print(observation)\n",
    "\n",
    "for _ in range(1000):\n",
    "    action = env.action_space.sample()\n",
    "    observation, reward, terminated, truncated, info = env.step(action)\n",
    "\n",
    "    if terminated or truncated:\n",
    "        observation, info = env.reset()\n",
    "env.close()"
   ]
  },
  {
   "cell_type": "code",
   "execution_count": null,
   "metadata": {},
   "outputs": [],
   "source": []
  }
 ],
 "metadata": {
  "kernelspec": {
   "display_name": "Python 3.8.2 64-bit",
   "language": "python",
   "name": "python3"
  },
  "language_info": {
   "codemirror_mode": {
    "name": "ipython",
    "version": 3
   },
   "file_extension": ".py",
   "mimetype": "text/x-python",
   "name": "python",
   "nbconvert_exporter": "python",
   "pygments_lexer": "ipython3",
   "version": "3.8.2"
  },
  "orig_nbformat": 4,
  "vscode": {
   "interpreter": {
    "hash": "4f21d72bc557592fa910562da3bbc197e268e84f5a4077def0a8221dce6b5ef3"
   }
  }
 },
 "nbformat": 4,
 "nbformat_minor": 2
}
