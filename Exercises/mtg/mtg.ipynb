{
 "cells": [
  {
   "cell_type": "code",
   "execution_count": null,
   "metadata": {},
   "outputs": [],
   "source": []
  },
  {
   "cell_type": "markdown",
   "metadata": {},
   "source": [
    "# MTG image -> card\n",
    "\n",
    "Descern attributes of a magic card from an image. These attributes can in turn be used for further processing.\n",
    "\n",
    "### Attributes\n",
    "\n",
    "- Name\n",
    "- Cost\n",
    "- Stats (Power / Toughness)\n",
    "- Type (Creature, Sorcery etc)\n",
    "- Tribals (Fox, Warrior, Dog)\n",
    "- Keywords (Flying, \"Enter the battlefield?\")"
   ]
  }
 ],
 "metadata": {
  "kernelspec": {
   "display_name": "Python 3.8.2 64-bit",
   "language": "python",
   "name": "python3"
  },
  "language_info": {
   "name": "python",
   "version": "3.8.2"
  },
  "orig_nbformat": 4,
  "vscode": {
   "interpreter": {
    "hash": "4f21d72bc557592fa910562da3bbc197e268e84f5a4077def0a8221dce6b5ef3"
   }
  }
 },
 "nbformat": 4,
 "nbformat_minor": 2
}
