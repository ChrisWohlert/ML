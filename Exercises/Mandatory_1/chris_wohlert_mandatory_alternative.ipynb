{
 "cells": [
  {
   "cell_type": "code",
   "execution_count": 64,
   "metadata": {},
   "outputs": [],
   "source": [
    "df = pandas.read_csv(\"titanic_alternative.csv\")"
   ]
  },
  {
   "cell_type": "code",
   "execution_count": 65,
   "metadata": {},
   "outputs": [],
   "source": [
    "X = df.drop(['Survived'], axis=1)\n",
    "y = df['Survived']"
   ]
  },
  {
   "cell_type": "code",
   "execution_count": 66,
   "metadata": {},
   "outputs": [],
   "source": [
    "# Mr == 1\n",
    "# Mrs == 2\n",
    "# Miss == 3\n",
    "# Master == 4\n",
    "X['Name'] = X['Name'].apply(lambda x: 1 if \"Mr.\" in x else 2 if \"Mrs.\" in x else 3 if \"Miss.\" in x else 4)\n",
    "\n",
    "X['Sex'] = X['Sex'].factorize()[0]"
   ]
  },
  {
   "cell_type": "code",
   "execution_count": 67,
   "metadata": {},
   "outputs": [],
   "source": [
    "X['AdultWithoutChildren'] = X.apply(lambda x: 1 if x['Parents/Children Aboard'] == 0 and x['Siblings/Spouses Aboard'] == 1 else 0.1, axis=1)"
   ]
  },
  {
   "cell_type": "code",
   "execution_count": 68,
   "metadata": {},
   "outputs": [],
   "source": [
    "X['TravelingAlone'] = X.apply(lambda x: 1 if x['Parents/Children Aboard'] == 0 and x['Siblings/Spouses Aboard'] == 0 else 0.1, axis=1)"
   ]
  },
  {
   "cell_type": "code",
   "execution_count": 69,
   "metadata": {},
   "outputs": [],
   "source": [
    "X['IsTravelingWithSiblings'] = X.apply(lambda x: 1 if x['Parents/Children Aboard'] > 0 and x['Siblings/Spouses Aboard'] > 1 else 0.1, axis=1)"
   ]
  },
  {
   "cell_type": "code",
   "execution_count": 70,
   "metadata": {},
   "outputs": [],
   "source": [
    "X['TravelingWithChildren'] = X.apply(lambda x: 1 if x['Parents/Children Aboard'] > 2 else 0.1, axis=1)"
   ]
  },
  {
   "cell_type": "code",
   "execution_count": 71,
   "metadata": {},
   "outputs": [
    {
     "name": "stdout",
     "output_type": "stream",
     "text": [
      "Age mean:  29.471443066516347\n",
      "Adults without children mean:  31.6260162601626\n",
      "Traveling alone mean:  31.75984990619137\n",
      "Traveling with siblings mean:  10.080357142857142\n",
      "Traveling with children mean:  38.86666666666667\n"
     ]
    }
   ],
   "source": [
    "age = X.dropna(subset=['Age'])\n",
    "age_mean = age['Age'].mean()\n",
    "adult_without_children_mean = age['Age'][age['AdultWithoutChildren'] == 1].mean()\n",
    "traveling_alone = age['Age'][age['TravelingAlone'] == 1].mean()\n",
    "is_traveling_with_siblings = age['Age'][age['IsTravelingWithSiblings'] == 1].mean()\n",
    "traveling_with_children = age['Age'][age['TravelingWithChildren'] == 1].mean()\n",
    "\n",
    "print(\"Age mean: \", age_mean)\n",
    "print(\"Adults without children mean: \", adult_without_children_mean)\n",
    "print(\"Traveling alone mean: \", traveling_alone)\n",
    "print(\"Traveling with siblings mean: \", is_traveling_with_siblings)\n",
    "print(\"Traveling with children mean: \", traveling_with_children)"
   ]
  },
  {
   "cell_type": "code",
   "execution_count": 72,
   "metadata": {},
   "outputs": [
    {
     "name": "stdout",
     "output_type": "stream",
     "text": [
      "Error using just the mean:  201.48451235955054\n",
      "Error using the categories:  184.61235898876402\n"
     ]
    }
   ],
   "source": [
    "from sklearn.metrics import mean_squared_error\n",
    "\n",
    "age_X_train, age_X_test, age_y_train, age_y_test = train_test_split(age.drop('Age', axis=1), age['Age'], test_size=0.2, random_state=42)\n",
    "\n",
    "def get_mean_age(a):\n",
    "    if a['AdultWithoutChildren'] == 1:\n",
    "        return 32.32\n",
    "    if a['TravelingAlone'] == 1:\n",
    "        return 32.33\n",
    "    if a['IsTravelingWithSiblings'] == 1:\n",
    "        return 10.03\n",
    "    if a['TravelingWithChildren'] == 1:\n",
    "        return 40.0\n",
    "    return 29.87\n",
    "    \n",
    "age_y_pred_with_just_mean = age_X_test.apply(lambda x: 29.87, axis=1)\n",
    "age_y_pred_with_categories = age_X_test.apply(lambda x: get_mean_age(x), axis=1)\n",
    "\n",
    "print('Error using just the mean: ', mean_squared_error(age_y_test, age_y_pred_with_just_mean))\n",
    "print('Error using the categories: ', mean_squared_error(age_y_test, age_y_pred_with_categories))"
   ]
  },
  {
   "cell_type": "code",
   "execution_count": 73,
   "metadata": {},
   "outputs": [
    {
     "name": "stdout",
     "output_type": "stream",
     "text": [
      "Errors:  137.76559822141124\n"
     ]
    }
   ],
   "source": [
    "from sklearn.neural_network import MLPRegressor\n",
    "from sklearn.preprocessing import StandardScaler\n",
    "\n",
    "age = X.dropna(subset=['Age'])\n",
    "\n",
    "age_X = age.drop(columns=['Age'])\n",
    "age_X = StandardScaler().fit_transform(age_X)\n",
    "age_y = age['Age']\n",
    "\n",
    "age_model = MLPRegressor(solver='adam', random_state=0, hidden_layer_sizes=[2, 2], max_iter=10000, alpha=5)\n",
    "\n",
    "age_X_train, age_X_test, age_y_train, age_y_test = train_test_split(age_X, age_y, test_size=0.2, random_state=42)\n",
    "\n",
    "age_model.fit(age_X_train, age_y_train)\n",
    "\n",
    "errors = mean_squared_error(age_y_test, age_model.predict(age_X_test))\n",
    "\n",
    "print('Errors: ', errors)"
   ]
  },
  {
   "cell_type": "code",
   "execution_count": 74,
   "metadata": {},
   "outputs": [
    {
     "name": "stdout",
     "output_type": "stream",
     "text": [
      "29.471443066516347\n",
      "(887,)\n"
     ]
    }
   ],
   "source": [
    "model = age_model\n",
    "\n",
    "X_scaled = StandardScaler().fit_transform(X.drop(columns=['Age']))\n",
    "new_ages = DataFrame(model.predict(X_scaled), columns=['Age'])\n",
    "\n",
    "X = X.fillna(new_ages)\n",
    "\n",
    "print(X['Age'].mean())\n",
    "print(X['Age'].shape)"
   ]
  },
  {
   "cell_type": "code",
   "execution_count": 75,
   "metadata": {},
   "outputs": [
    {
     "name": "stdout",
     "output_type": "stream",
     "text": [
      "SVM:  0.7808988764044944\n",
      "RF:  0.7752808988764045\n",
      "MLP:  0.7471910112359551\n"
     ]
    }
   ],
   "source": [
    "X_scaled = StandardScaler().fit_transform(X)\n",
    "X_train, X_test, y_train, y_test = train_test_split(X_scaled, y, test_size=0.2, random_state=42)\n",
    "\n",
    "svm = SVC(kernel='poly')\n",
    "svm.fit(X_train, y_train)\n",
    "print('SVM: ', accuracy_score(y_test, svm.predict(X_test)))\n",
    "\n",
    "rf = RandomForestClassifier(n_estimators=1000, max_depth=12, random_state=0)\n",
    "rf.fit(X_train, y_train)\n",
    "print('RF: ', accuracy_score(y_test, rf.predict(X_test)))\n",
    "\n",
    "mlp = MLPClassifier(solver='adam', random_state=0, hidden_layer_sizes=[10, 10, 10], max_iter=10000, alpha=5)\n",
    "mlp.fit(X_train, y_train)\n",
    "print('MLP: ', accuracy_score(y_test, mlp.predict(X_test)))\n"
   ]
  },
  {
   "cell_type": "code",
   "execution_count": 76,
   "metadata": {},
   "outputs": [
    {
     "name": "stdout",
     "output_type": "stream",
     "text": [
      "True positives:  92\n",
      "False positives:  19\n",
      "True negatives:  46\n",
      "False negatives:  21\n",
      "Accuracy:  0.7752808988764045\n",
      "Precision:  0.8288288288288288\n",
      "Recall:  0.8141592920353983\n"
     ]
    }
   ],
   "source": [
    "from sklearn.metrics import confusion_matrix\n",
    "\n",
    "predictions = rf.predict(X_test)\n",
    "[[true_pos, false_pos], [false_neg, true_neg]] = confusion_matrix(y_test, predictions)\n",
    "\n",
    "print('True positives: ', true_pos)\n",
    "print('False positives: ', false_pos)\n",
    "print('True negatives: ', true_neg)\n",
    "print('False negatives: ', false_neg)\n",
    "print('Accuracy: ', (true_pos + true_neg) / (false_pos + false_neg + true_pos + true_neg))\n",
    "print('Precision: ', true_pos / (true_pos + false_pos))\n",
    "print('Recall: ', true_pos / (true_pos + false_neg))"
   ]
  },
  {
   "cell_type": "code",
   "execution_count": 77,
   "metadata": {},
   "outputs": [
    {
     "name": "stdout",
     "output_type": "stream",
     "text": [
      "{'C': 1, 'degree': 1, 'kernel': 'rbf'}\n",
      "Accuracy:  0.7808988764044944\n"
     ]
    }
   ],
   "source": [
    "\n",
    "from sklearn.model_selection import GridSearchCV\n",
    "\n",
    "grid = GridSearchCV(estimator=SVC(), param_grid={'kernel': ('linear', 'poly', 'rbf', 'sigmoid'), 'degree': np.arange(1, 5), 'C': np.arange(1, 5)}, scoring='f1')\n",
    "grid.fit(X_train, y_train)\n",
    "\n",
    "print(grid.best_params_)\n",
    "\n",
    "svm = grid.best_estimator_\n",
    "svm.fit(X_train, y_train)\n",
    "print('Accuracy: ', accuracy_score(y_test, svm.predict(X_test)))"
   ]
  }
 ],
 "metadata": {
  "kernelspec": {
   "display_name": "Python 3.8.0 64-bit",
   "language": "python",
   "name": "python3"
  },
  "language_info": {
   "codemirror_mode": {
    "name": "ipython",
    "version": 3
   },
   "file_extension": ".py",
   "mimetype": "text/x-python",
   "name": "python",
   "nbconvert_exporter": "python",
   "pygments_lexer": "ipython3",
   "version": "3.8.0"
  },
  "orig_nbformat": 4,
  "vscode": {
   "interpreter": {
    "hash": "3d3e0f5a071c3d54a1e63bce3160275a8e6b1225b175ea71d3e048c729e0e071"
   }
  }
 },
 "nbformat": 4,
 "nbformat_minor": 2
}
